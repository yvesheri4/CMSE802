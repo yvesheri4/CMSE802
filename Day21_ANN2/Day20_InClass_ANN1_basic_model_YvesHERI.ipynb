{
  "cells": [
    {
      "cell_type": "markdown",
      "metadata": {
        "id": "view-in-github",
        "colab_type": "text"
      },
      "source": [
        "<a href=\"https://colab.research.google.com/github/yvesheri4/CMSE802/blob/main/Day20_InClass_ANN1_basic_model_YvesHERI.ipynb\" target=\"_parent\"><img src=\"https://colab.research.google.com/assets/colab-badge.svg\" alt=\"Open In Colab\"/></a>"
      ]
    },
    {
      "cell_type": "markdown",
      "metadata": {
        "id": "3b51772a"
      },
      "source": [
        "# Day 20: In Class Assignment: Artificial neural network 1\n",
        "\n",
        "### <p style='text-align: right;'> &#9989; Yves HERI.\n",
        "#### <p style='text-align: right;'> &#9989; Yaman, Swayan, Stephe.\n",
        "\n",
        "\n",
        "<img src= \"https://storage.googleapis.com/kaggle-datasets-images/2243/3791/9384af51de8baa77f6320901f53bd26b/dataset-cover.png\" width=\"80%\">\n",
        "\n",
        "The [Fashion MNIST dataset from Kaggle](https://www.kaggle.com/datasets/zalando-research/fashionmnist) we will be playing with today\n"
      ]
    },
    {
      "cell_type": "markdown",
      "metadata": {
        "id": "VAWf71XXpPRI"
      },
      "source": [
        "## ___Learning objectives___\n",
        "\n",
        "At the end of the exercise, you should be able to:\n",
        "- Load existing Tensorflow dataset.\n",
        "- Visualize image data as tensors.\n",
        "- Build and train a simple ANN model.\n",
        "- Understand loss and F1 and how they change over epochs.\n",
        "- Change the model architure and understand its impacts.\n",
        "- Evaluate an ANN model with test data."
      ]
    },
    {
      "cell_type": "markdown",
      "metadata": {
        "id": "HfLFSWf-pPRL"
      },
      "source": [
        "---\n",
        "## ___Outline___\n",
        "\n",
        "1. [Review pre-class assignment](#preclass)\n",
        "1. [Dataset and tensor](#dataset)\n",
        "1. [Building an ANN classification model](#build)\n",
        "1. [Train the model](#train)\n",
        "1. [Impact of learning rate](#lr)\n",
        "1. [Play with model architecture](#architecture)"
      ]
    },
    {
      "cell_type": "markdown",
      "metadata": {
        "tags": [],
        "id": "CanJPvk6pPRM"
      },
      "source": [
        "----\n",
        "<a id=\"preclass\"></a>\n",
        "\n",
        "## ___Pre-Class Assignment Review___"
      ]
    },
    {
      "cell_type": "markdown",
      "metadata": {
        "tags": [
          "task"
        ],
        "id": "9pn2J_z_pPRM"
      },
      "source": [
        "🗒️ **Question:** In the pre-class, you filled out the following table based on the example `model_basework` with the following archtecture:\n",
        "\n",
        "- Two nodes in the input layer,\n",
        "- Three nodes in the hidden layer,\n",
        "- One node in the output layer.\n",
        "\n",
        "And there are three instances. Discuss your results of the following table with your groupmates. Which part did you get wrong ad why?\n",
        "\n",
        "|Variable|Definition|Dimension|\n",
        "|---|---|---|\n",
        "|$X$      |Feature value matrix|3x2|\n",
        "|$W^{(1)}$|1st layer weight matrix|2x3|\n",
        "|$z^{(2)}$|2nd layer activity|3x3|\n",
        "|$f$      |Activation function|NA|\n",
        "|$a^{(2)}$|2nd layer activity after activation|3x3|\n",
        "|$W^{(2)}$|2nd layer weight matrix|3x1|\n",
        "|$z^{(3)}$|3rd layer activity|3x1|\n",
        "|$\\hat{y}$|Output vector|3x1|\n"
      ]
    },
    {
      "cell_type": "markdown",
      "metadata": {
        "tags": [
          "text answer"
        ],
        "id": "BjJLD695pPRO"
      },
      "source": [
        "✏️ **Answer:**\n",
        "\n",
        "We were able to get everything right in this part."
      ]
    },
    {
      "cell_type": "markdown",
      "metadata": {
        "id": "XosbSUbHpPRO"
      },
      "source": [
        "---\n",
        "## ___Setup___"
      ]
    },
    {
      "cell_type": "markdown",
      "metadata": {
        "id": "_sn_yDewpPRP"
      },
      "source": [
        "### _Important and key variables_"
      ]
    },
    {
      "cell_type": "code",
      "execution_count": 1,
      "metadata": {
        "id": "x3Fak9kUpPRQ"
      },
      "outputs": [],
      "source": [
        "import numpy as np\n",
        "import torchvision.datasets as datasets\n",
        "import copy\n",
        "import torch\n",
        "import torch.nn as nn\n",
        "import torch.nn.functional as F\n",
        "import torch.optim as optim\n",
        "import matplotlib.pyplot as plt\n",
        "from torchvision import transforms\n",
        "from tqdm import tqdm\n",
        "from torcheval.metrics.functional import multiclass_f1_score\n",
        "from helper_d22 import *\n",
        "\n",
        "data_dir = './.data'"
      ]
    },
    {
      "cell_type": "markdown",
      "metadata": {
        "id": "lAGz-7a2pPRb"
      },
      "source": [
        "### _Reproducibility_"
      ]
    },
    {
      "cell_type": "markdown",
      "metadata": {
        "tags": [
          "task"
        ],
        "id": "aOdGDdtnpPRb"
      },
      "source": [
        "🗒️ **Task:** For pytorch, the way to improve reproducibility is to set `manual_seed`. Run the cell below to set it.\n",
        "\n",
        "Let's use the same `rand_seed` this time so we can directly compare our results later."
      ]
    },
    {
      "cell_type": "code",
      "execution_count": 2,
      "metadata": {
        "colab": {
          "base_uri": "https://localhost:8080/"
        },
        "id": "HvKXE-nppPRc",
        "outputId": "73a2191e-f20f-45a4-9668-a4076e9d6504"
      },
      "outputs": [
        {
          "output_type": "execute_result",
          "data": {
            "text/plain": [
              "<torch._C.Generator at 0x79d3e9a78290>"
            ]
          },
          "metadata": {},
          "execution_count": 2
        }
      ],
      "source": [
        "rand_seed = 240320\n",
        "\n",
        "torch.manual_seed(rand_seed)"
      ]
    },
    {
      "cell_type": "markdown",
      "metadata": {
        "id": "bTv1WZUTpPRe"
      },
      "source": [
        "---\n",
        "<a id=\"dataset\"></a>\n",
        "## ___Dataset and tensor___"
      ]
    },
    {
      "cell_type": "markdown",
      "metadata": {
        "id": "KbZcbRg1pPRe"
      },
      "source": [
        "### _Dataset content_\n",
        "\n",
        "We will use the [Fashion MINST](https://www.tensorflow.org/datasets/catalog/fashion_mnist) data set containing images of different kind of outfits. __Our goal here is to classify an image into one of 10 outfit class (e.g., Dress, Trouser, Shirt).__"
      ]
    },
    {
      "cell_type": "markdown",
      "metadata": {
        "tags": [
          "task"
        ],
        "id": "LItuWgUupPRf"
      },
      "source": [
        "🗒️ **Task:** Load the dataset and write code to:\n",
        "1. Show the type of train and test sets,\n",
        "1. Show the dimension of train and test sets."
      ]
    },
    {
      "cell_type": "code",
      "execution_count": 3,
      "metadata": {
        "tags": [
          "code answer"
        ],
        "colab": {
          "base_uri": "https://localhost:8080/"
        },
        "id": "cpfET7gIpPRf",
        "outputId": "9bf61d83-b6e1-4357-e351-f6bb4a488e4b"
      },
      "outputs": [
        {
          "output_type": "stream",
          "name": "stdout",
          "text": [
            "X_train type: <class 'torch.Tensor'>\n",
            "X_train_all shape: torch.Size([60000, 28, 28])\n",
            "y_train type: <class 'torch.Tensor'>\n",
            "y_train_all shape: torch.Size([60000])\n"
          ]
        }
      ],
      "source": [
        "### ANSWER\n",
        "#\n",
        "fashion_train_data = datasets.FashionMNIST(\n",
        "    root=data_dir,\n",
        "    train=True,\n",
        "    download=True,\n",
        "    transform=transforms.ToTensor()\n",
        "    )\n",
        "\n",
        "fashion_test_data  = datasets.FashionMNIST(\n",
        "    root=data_dir,\n",
        "    train=False,\n",
        "    download=True,\n",
        "    transform=None\n",
        "    )\n",
        "\n",
        "X_train_all = fashion_train_data.data\n",
        "y_train_all = fashion_train_data.targets\n",
        "\n",
        "X_test = fashion_test_data.data\n",
        "y_test = fashion_test_data.targets\n",
        "\n",
        "# put your code below\n",
        "\n",
        "print(f'X_train type: {type(X_train_all)}')\n",
        "print(f'X_train_all shape: {X_train_all.shape}')\n",
        "\n",
        "print(f'y_train type: {type(y_train_all)}')\n",
        "print(f'y_train_all shape: {y_train_all.shape}')"
      ]
    },
    {
      "cell_type": "markdown",
      "metadata": {
        "tags": [
          "task"
        ],
        "id": "E7lyxBmYpPRj"
      },
      "source": [
        "### _Tensor_\n",
        "\n",
        "If your code above is correct, then you must have seen that the data type of `X_train` is `torch.Tensor`.\n",
        "\n",
        "__Tensor__ is just another name for data arrays. So here we just encountered a new data type `torch.Tensor` that comes with the package pytorch, just like the `np.array` datatype that comes with the package numpy.\n",
        "\n",
        "Similar to numpy, pytorch also defines a special set of commands that only apply to `torch.Tensor`. For example, the command for finding the minimal value of an np.array is `numpy.min`, but when you want to find the minimal value of an array stored as type `torch.tensor`, you should use `torch.min` instead.\n",
        "\n",
        "🗒️ **Task:** Write code to:\n",
        "\n",
        "- Print out the min and max values in `X_train_all`.\n",
        "- Print out the unique values in `y_train_all` (use `torch.unique`).\n",
        "- Print out the shape of the 1st instance in `X_train_all`.\n",
        "- Create a variable called `class_names` with `fashion_train_data.classes` and print it out."
      ]
    },
    {
      "cell_type": "code",
      "execution_count": 4,
      "metadata": {
        "tags": [
          "code answer"
        ],
        "colab": {
          "base_uri": "https://localhost:8080/"
        },
        "id": "mPLSoMbEpPRj",
        "outputId": "a87a0eb7-a2ac-408a-8f5c-09eb49438ba6"
      },
      "outputs": [
        {
          "output_type": "stream",
          "name": "stdout",
          "text": [
            "Max value in X_train_all: 255\n",
            "Min value in X_train_all: 0\n",
            "tensor([0, 1, 2, 3, 4, 5, 6, 7, 8, 9])\n",
            "X_train_all first instance shape: torch.Size([28, 28])\n"
          ]
        }
      ],
      "source": [
        "### ANSWER\n",
        "print(f'Max value in X_train_all: {torch.max(X_train_all)}')\n",
        "print(f'Min value in X_train_all: {torch.min(X_train_all)}')\n",
        "\n",
        "print(torch.unique(y_train_all))\n",
        "\n",
        "print(f'X_train_all first instance shape: {X_train_all[0].shape}')\n",
        "\n",
        "class_names = fashion_train_data.classes"
      ]
    },
    {
      "cell_type": "markdown",
      "metadata": {
        "tags": [
          "task"
        ],
        "id": "CSxtoBjNpPRk"
      },
      "source": [
        "### _Dataset and preprocessing_\n",
        "\n",
        "In this dataset:\n",
        "- There are 60,000 training images.\n",
        "- There are 10,000 testing images.\n",
        "- Each image is a 28x28 pixel image.\n",
        "- Each pixel has a value from 0 to 255.\n",
        "- Pixel values in these images are features.\n",
        "- There are 10 classes with names from 0 to 9.\n",
        "\n",
        "Since we are using laptop computer for this exercise and most do not have good GPU, we will use only a small subset of the data:\n",
        "\n",
        "- 500 images of the training data for training,\n",
        "- 500 images of the training data for validation,\n",
        "- The testing data is untouched.\n",
        "- We have 10 classes, so each class has exactly 50 images in training and validation.\n",
        "- We need to normalize the data (the original feature values are from 0 to 255) to [0,1].\n",
        "\n",
        "🗒️ **Task:**  Since the above are not a core learning objective, codes from doing all the above is wrapped into a helper function `get_subset`. Check out the docstring of this function to see what it is doing."
      ]
    },
    {
      "cell_type": "code",
      "execution_count": 5,
      "metadata": {
        "colab": {
          "base_uri": "https://localhost:8080/"
        },
        "id": "iKL-bKb6pPRk",
        "outputId": "4871b5ab-c726-4ac5-d48c-c0c210b558cf"
      },
      "outputs": [
        {
          "output_type": "stream",
          "name": "stdout",
          "text": [
            "Help on function get_subsets in module helper_d22:\n",
            "\n",
            "get_subsets(data_dir, train_valid_size=200)\n",
            "    Get training, validation, and test data\n",
            "    Args:\n",
            "      data_dir (str or Path): the directory to store the data\n",
            "      train_valid_size (int): the number of images for training and validation\n",
            "    Return:\n",
            "      X_train (torch.Tensor): training images, defined by train_valid_size\n",
            "      X_valid (torch.Tensor): validation images, defined by train_valid_size\n",
            "      X_test (torch.Tensor): test images, all 6000 images per class\n",
            "      y_train (torch.Tensor): training labels\n",
            "      y_valid (torch.Tensor): validation labels\n",
            "      y_test (torch.Tensor): test labels\n",
            "      class_names (list): the names of the classes\n",
            "\n"
          ]
        }
      ],
      "source": [
        "help(get_subsets)"
      ]
    },
    {
      "cell_type": "markdown",
      "metadata": {
        "tags": [
          "task"
        ],
        "id": "DrYNUxFNpPRl"
      },
      "source": [
        "\n",
        "🗒️ **Task:**  Run the following cell to use the helper function `get_subset` to:\n",
        "- Transform the data,\n",
        "- Get the transformed train, validation, and test dataset."
      ]
    },
    {
      "cell_type": "code",
      "execution_count": 6,
      "metadata": {
        "colab": {
          "base_uri": "https://localhost:8080/"
        },
        "id": "X34DW9D_pPRl",
        "outputId": "55e463be-2fc4-4276-da36-43bcabec3018"
      },
      "outputs": [
        {
          "output_type": "execute_result",
          "data": {
            "text/plain": [
              "(torch.Size([500, 28, 28]),\n",
              " torch.Size([500, 28, 28]),\n",
              " torch.Size([60000, 28, 28]),\n",
              " torch.Size([500]),\n",
              " torch.Size([500]),\n",
              " torch.Size([60000]))"
            ]
          },
          "metadata": {},
          "execution_count": 6
        }
      ],
      "source": [
        "X_train, X_valid, X_test, y_train, y_valid, y_test, class_names = \\\n",
        "                                    get_subsets(data_dir, train_valid_size=50)\n",
        "\n",
        "X_train.shape, X_valid.shape, X_test.shape, y_train.shape, y_valid.shape, y_test.shape"
      ]
    },
    {
      "cell_type": "markdown",
      "metadata": {
        "tags": [
          "task"
        ],
        "id": "T-do9DxkpPRm"
      },
      "source": [
        "🗒️ **Task:** Write code below to check the max and min values in training, validation, and test sets."
      ]
    },
    {
      "cell_type": "code",
      "execution_count": 7,
      "metadata": {
        "tags": [
          "code answer"
        ],
        "colab": {
          "base_uri": "https://localhost:8080/"
        },
        "id": "eH0ZfAH3pPRm",
        "outputId": "2ade8e89-3b23-421c-c436-fdbe85b5003b"
      },
      "outputs": [
        {
          "output_type": "stream",
          "name": "stdout",
          "text": [
            "Max value in X_train: 1.0\n",
            "Min value in X_train: 0.0\n",
            "Max value in X_valid: 1.0\n",
            "Min value in X_valid: 0.0\n",
            "Max value in X_test: 1.0\n",
            "Min value in X_test: 0.0\n"
          ]
        }
      ],
      "source": [
        "### ANSWER\n",
        "\n",
        "print(f'Max value in X_train: {X_train.max()}')\n",
        "print(f'Min value in X_train: {X_train.min()}')\n",
        "\n",
        "print(f'Max value in X_valid: {X_valid.max()}')\n",
        "print(f'Min value in X_valid: {X_valid.min()}')\n",
        "\n",
        "print(f'Max value in X_test: {X_test.max()}')\n",
        "print(f'Min value in X_test: {X_test.min()}')"
      ]
    },
    {
      "cell_type": "markdown",
      "metadata": {
        "id": "uPaqIFU_pPRn"
      },
      "source": [
        "---\n",
        "<a id=\"build\"></a>\n",
        "## ___Building an ANN classification model___"
      ]
    },
    {
      "cell_type": "markdown",
      "metadata": {
        "tags": [
          "task"
        ],
        "id": "Lf0E0O0npPRo"
      },
      "source": [
        "### _Checking your hardware_\n",
        "\n",
        "Training ANN is typically computationally extensive and usually requires a Graphical Processing Unit (GPU, graphics card). Most of your laptops however have weak GPUs that are not suitable for training.\n",
        "\n",
        "🗒️ **Task:** Run the following cell to determine if GPU is available and, if not, use CPU."
      ]
    },
    {
      "cell_type": "code",
      "execution_count": 8,
      "metadata": {
        "colab": {
          "base_uri": "https://localhost:8080/"
        },
        "id": "hVEc552GpPRo",
        "outputId": "3da7abbb-d0ad-43fe-b983-f66e3543034b"
      },
      "outputs": [
        {
          "output_type": "stream",
          "name": "stdout",
          "text": [
            "gpu is available: False\n"
          ]
        }
      ],
      "source": [
        "print(\"gpu is available:\", torch.cuda.is_available())"
      ]
    },
    {
      "cell_type": "code",
      "execution_count": 9,
      "metadata": {
        "colab": {
          "base_uri": "https://localhost:8080/"
        },
        "id": "cY41_k7HpPRu",
        "outputId": "2321c15c-24e2-4b05-e0d0-9dbb6c58f193"
      },
      "outputs": [
        {
          "output_type": "stream",
          "name": "stdout",
          "text": [
            "Using device: cpu\n"
          ]
        }
      ],
      "source": [
        "# I am using CPU here. But if you have gpu, try it.\n",
        "device = torch.device(\"cpu\")\n",
        "\n",
        "print(\"Using device:\", device)"
      ]
    },
    {
      "cell_type": "markdown",
      "metadata": {
        "tags": [
          "task"
        ],
        "id": "EwoogTjApPR4"
      },
      "source": [
        "### _Defining an nn.Module subclass_\n",
        "\n",
        "We define our neural model_basework in Pytorch by\n",
        "- subclassing `nn.Module`, and\n",
        "- initializing the neural model_basework layers in __\\_\\_init\\_\\___.\n",
        "- Every `nn.Module` subclass implements the operations on input data in the __forward__ method.\n",
        "\n",
        "Let's create a base model with the following layers and activation function:\n",
        "- __nn.Flatten__: The first, input layer with:\n",
        "  - input: tensor of 3 dimensions\n",
        "  - output: tensor of 2 dimensions with the last 2 flattened\n",
        "- __nn.Linear__: the 2nd-4th layers, the first two are hidden layer and the last is the output layer.\n",
        "  - Applies a linear transformation on the input using its stored weights and biases.\n",
        "  - In its simplest form it takes two paramters:\n",
        "  - `num_input_nodes`: The number of nodes in the previous layer,\n",
        "  - `num_output_nodes`: The number of nodes in the current layer.\n",
        "    - Let's have 500 (number of images in the training set), 100 (change this to whatever you want), and 10 (number of classes) output nodes for the 2nd, 3rd, and 4th layers, respectively.\n",
        "- __nn.ReLU__: Rectified Linear Unit\n",
        "  - Applied after linear transformations to introduce nonlinearity, helping neural model_baseworks learn a wide variety of phenomena.\n",
        "  - In this model, we use `nn.ReLU` between our linear layers, but there are other activation function.\n",
        "  - Below is a comparison of the output from sigmoid and ReLU.\n",
        "\n",
        "<img src=\"https://miro.medium.com/v2/resize:fit:786/format:webp/1*XxxiA0jJvPrHEJHD4z893g.png\" width=600 />\n",
        "\n",
        "- __nn.Softmax__: generate a [`softmax`](https://en.wikipedia.org/wiki/Softmax_function) output\n",
        "  - The last linear layer of the neural model_basework returns logits - raw values in [-infty, infty],\n",
        "  - Logits are passed to the `nn.Softmax` module and scaled to values [0, 1] like probabilities that shows how likely the current image is in each of the classes.\n",
        "  - The predicted label would then be the class with the highest probability.\n",
        "  - For some historical reason, instead of just using the `softmax` function, we use the logrithm of it, which is essentially the same, as it does not change the ranking of the probabilities.\n",
        "\n",
        "🗒️ **Task:** In the code cell below, fill in the missing parameters (??) and missing comments based on the above."
      ]
    },
    {
      "cell_type": "code",
      "execution_count": 10,
      "metadata": {
        "tags": [
          "code answer"
        ],
        "id": "DewGoKGbpPR-"
      },
      "outputs": [],
      "source": [
        "### ANSWER\n",
        "#\n",
        "# nn is torch.nn.\n",
        "# F is torch.nn.functional.\n",
        "\n",
        "class Classifier(nn.Module):\n",
        "  def __init__(self):\n",
        "    super().__init__()\n",
        "    self.flatten = nn.Flatten()\n",
        "    self.fc1 = nn.Linear(784,500) # Define the first fully connected layer\n",
        "    self.fc2 = nn.Linear(500,100)  # Define the second fully connected layer\n",
        "    self.out = nn.Linear(100,10)  # Define the output layer\n",
        "\n",
        "  def forward(self,x):\n",
        "    x = self.flatten(x)          # Has dimension 1x784\n",
        "    x = F.relu(self.fc1(x))      # dimension 1x500\n",
        "    x = F.relu(self.fc2(x))      # dimension 1x100\n",
        "    x = F.relu(self.out(x))      # dimension 1x10\n",
        "    x = F.log_softmax(x,dim=1)   # dimension 1x10\n",
        "\n",
        "    return x"
      ]
    },
    {
      "cell_type": "markdown",
      "metadata": {
        "tags": [
          "task"
        ],
        "id": "Bs9pCg2gpPS7"
      },
      "source": [
        "🗒️ **Task:** Run the following that:\n",
        "\n",
        "- Constructs a baseline model object `model_base` from the `Classifer` class we just defined, so we have an actual, untrained model_basework!\n",
        "- We call this \"baseline\" because we are not tuning any of the parameters and is just using it as is.\n",
        "- Summarizes the structure of the model_basework you just created."
      ]
    },
    {
      "cell_type": "code",
      "execution_count": 11,
      "metadata": {
        "colab": {
          "base_uri": "https://localhost:8080/"
        },
        "id": "sD-gvSBJpPS_",
        "outputId": "a6163bba-57c0-4dc2-a20a-58b103a5d795"
      },
      "outputs": [
        {
          "output_type": "stream",
          "name": "stdout",
          "text": [
            "Classifier(\n",
            "  (flatten): Flatten(start_dim=1, end_dim=-1)\n",
            "  (fc1): Linear(in_features=784, out_features=500, bias=True)\n",
            "  (fc2): Linear(in_features=500, out_features=100, bias=True)\n",
            "  (out): Linear(in_features=100, out_features=10, bias=True)\n",
            ")\n"
          ]
        }
      ],
      "source": [
        "model_base = Classifier()\n",
        "\n",
        "print(model_base)"
      ]
    },
    {
      "cell_type": "markdown",
      "metadata": {
        "tags": [
          "task"
        ],
        "id": "L8NxPRH2pPTo"
      },
      "source": [
        "🗒️ **Task:**  Run the cell below to get the total number of  parameters (weights+bias)."
      ]
    },
    {
      "cell_type": "code",
      "execution_count": 12,
      "metadata": {
        "colab": {
          "base_uri": "https://localhost:8080/"
        },
        "id": "BbiVM4rIpPTp",
        "outputId": "21f4da14-014e-49c4-b0c5-31b36120e8c6"
      },
      "outputs": [
        {
          "output_type": "stream",
          "name": "stdout",
          "text": [
            "443610 443610\n"
          ]
        }
      ],
      "source": [
        "total_num_param     = sum(p.numel() for p in model_base.parameters())\n",
        "total_num_trainable = sum(p.numel() for p in model_base.parameters() if p.requires_grad)\n",
        "\n",
        "print(total_num_param, total_num_trainable)"
      ]
    },
    {
      "cell_type": "markdown",
      "metadata": {
        "tags": [
          "task"
        ],
        "id": "gY9KJUwXpPTq"
      },
      "source": [
        "### _How well would an untrained model do?_\n",
        "\n",
        "We have not trained the model yet and all the parameters are randomly initiated.\n",
        "\n",
        "🗒️ **Task:** Comment on the following code and make sure you understand what each line is doing and run the code block to get how well an untrained model would do in classifying the images.\n"
      ]
    },
    {
      "cell_type": "code",
      "execution_count": 13,
      "metadata": {
        "colab": {
          "base_uri": "https://localhost:8080/"
        },
        "id": "8R6MgShgpPTr",
        "outputId": "2f1e1ff3-153e-4655-86c5-04fa88773f36"
      },
      "outputs": [
        {
          "output_type": "stream",
          "name": "stdout",
          "text": [
            "Naive train F1: 0.025732994\n",
            "Naive valid F1: 0.02077814\n"
          ]
        }
      ],
      "source": [
        "# Find the prediction using the training data\n",
        "y_train_naive_pred = model_base(X_train)\n",
        "\n",
        "# Prediction using the validation data\n",
        "y_valid_naive_pred = model_base.forward(X_valid)\n",
        "\n",
        "# Calculate the F1 score for the training data\n",
        "train_naive_f1 = multiclass_f1_score(\n",
        "      y_train_naive_pred.argmax(dim=1),  # comment\n",
        "      y_train,                           # comment\n",
        "      num_classes=len(class_names),      # comment\n",
        "      average='macro'                    # comment\n",
        "      )\n",
        "\n",
        "# Calculate the F1 score for the validation data\n",
        "valid_naive_f1 = multiclass_f1_score(\n",
        "      y_valid_naive_pred.argmax(dim=1),\n",
        "      y_valid,\n",
        "      num_classes=len(class_names),\n",
        "      average='macro'\n",
        "      )\n",
        "\n",
        "print(\"Naive train F1:\", train_naive_f1.detach().numpy())\n",
        "print(\"Naive valid F1:\", valid_naive_f1.detach().numpy())\n",
        "\n"
      ]
    },
    {
      "cell_type": "markdown",
      "metadata": {
        "tags": [
          "task"
        ],
        "id": "InJ9HGG_pPTr"
      },
      "source": [
        "🗒️ **Question:** What do those numbers mean? What would you expect those numbers to be if you were to guess randomly?\n",
        "\n",
        " __Hint:__ Look at the documentation, recall the definition of the F1 score."
      ]
    },
    {
      "cell_type": "markdown",
      "metadata": {
        "tags": [
          "text answer"
        ],
        "id": "NZWGF2MxpPTs"
      },
      "source": [
        "✏️ **Answer:**\n",
        "\n",
        " F1 score is a machine learning evaluation metric that combines precision and recall scores. The F1 score ranges between 0 and 1, with 0 denoting the lowest possible result and 1 denoting a flawless result, meaning that the model accurately predicted each label."
      ]
    },
    {
      "cell_type": "markdown",
      "metadata": {
        "id": "loBMDsf_pPTs"
      },
      "source": [
        "---\n",
        "<a id=\"train\"></a>\n",
        "\n",
        "## ___Train the model___"
      ]
    },
    {
      "cell_type": "markdown",
      "metadata": {
        "tags": [
          "task"
        ],
        "id": "6MNSHbcepPUC"
      },
      "source": [
        "### _Required components_\n",
        "\n",
        "Once a model is initiated, the next step is to train it with our taining data.\n",
        "\n",
        "🗒️ **Task:** The following is an implemention of the `train` function.\n",
        "\n",
        "__Study each line carefully and understand what it does.__\n"
      ]
    },
    {
      "cell_type": "code",
      "execution_count": 14,
      "metadata": {
        "scrolled": true,
        "id": "TAZC_e0epPUD"
      },
      "outputs": [],
      "source": [
        "def train(model_base, X_train, y_train, X_valid, y_valid, epochs=100, lr=0.01, wd=0.0,\n",
        "          model_name=\"\"):\n",
        "  '''Train the artificial neural model_basework\n",
        "  Args:\n",
        "    model_base (torch.nn.Module): the neural model_basework to be trained\n",
        "    X_train (torch.Tensor): the input data for training\n",
        "    y_train (torch.Tensor): the input labels for training\n",
        "    X_valid (torch.Tensor): the input data for validation\n",
        "    y_valid (torch.Tensor): the input labels for validation\n",
        "    epochs (int): the number of epochs, default 100\n",
        "    lr (float): the learning rate, default 0.01\n",
        "    wd (float): the weight decay, default 0.0\n",
        "    model_name (str): the name of the model to be saved, if empty, no save\n",
        "  Returns:\n",
        "    epoch_loss (list): the loss after each epoch\n",
        "    epoch_f1 (list): the f1 score after each epoch\n",
        "  '''\n",
        "  ## IMPORTANT ##\n",
        "  # pick a metric to measure the goodness of fit: negative log likelihood loss\n",
        "  criterion = nn.NLLLoss()\n",
        "\n",
        "  ## IMPORTANT ##\n",
        "  # Pick a training algorithm that iteratively minimizes the loss\n",
        "  # Here, we pick stochastic gradient descent from torch.optim\n",
        "  optimizer = optim.SGD(model_base.parameters(), lr=lr, weight_decay=wd)\n",
        "\n",
        "  # list to store the loss and f1 after each epoch\n",
        "  epoch_loss = []\n",
        "  epoch_f1 = []\n",
        "\n",
        "  ## IMPORTANT ##\n",
        "  # start training, update weights and bias.\n",
        "  model_base.train()\n",
        "\n",
        "  # go through the epochs\n",
        "  for e in tqdm(range(epochs)):\n",
        "    ## IMPORTANT ##\n",
        "    # clear previously stored gradients if any\n",
        "    optimizer.zero_grad()\n",
        "\n",
        "    ## IMPORTANT ##\n",
        "    # compute the output of the model_basework given the input data\n",
        "    y_train_pred = model_base(X_train)\n",
        "    y_valid_pred = model_base(X_valid)\n",
        "\n",
        "    ## IMPORTANT ##\n",
        "    # compute the difference between the predicted and true labels\n",
        "    train_loss = criterion(y_train_pred, y_train)\n",
        "    valid_loss = criterion(y_valid_pred, y_valid)\n",
        "\n",
        "    # store the epoch and loss info\n",
        "    epoch_loss.append([e, train_loss, valid_loss])\n",
        "\n",
        "    # compute the multiclass f1 score for training and validation data\n",
        "    train_f1 = multiclass_f1_score(y_train_pred.argmax(dim=1), y_train,\n",
        "                                   num_classes=10, average='macro')\n",
        "    valid_f1 = multiclass_f1_score(y_valid_pred.argmax(dim=1), y_valid,\n",
        "                                   num_classes=10, average='macro')\n",
        "\n",
        "    # store the epoch and f1 score\n",
        "    epoch_f1.append([e, train_f1, valid_f1])\n",
        "\n",
        "    ## IMPORTANT ##\n",
        "    # compute the gradient of the loss function with respect to the parameters\n",
        "    # based on the training loss **NOT** validation loss and stored the gradient\n",
        "    # in `parameter.grad`\n",
        "    train_loss.backward()\n",
        "\n",
        "    ## IMPORTANT ##\n",
        "    # update all the parameters stored in `parameter.grad`\n",
        "    optimizer.step()\n",
        "\n",
        "  # save the model\n",
        "  if model_name != \"\":\n",
        "    torch.save(model_base, model_name)\n",
        "\n",
        "  return epoch_loss, epoch_f1"
      ]
    },
    {
      "cell_type": "markdown",
      "metadata": {
        "tags": [
          "task"
        ],
        "id": "PCuqRV9wpPUE"
      },
      "source": [
        "🗒️ **Question:** After examine the training function above:\n",
        "\n",
        "- What is `nn.NLLLoss`? What is it used for?\n",
        "- What is `optim.SGD`? What is it used for?\n",
        "- Why do we need to do `optimizer.zero_grad()`?\n",
        "- What is the line that define a forward pass thorugh the neural model_basework?\n",
        "- What are the lines that define back propagataion?"
      ]
    },
    {
      "cell_type": "markdown",
      "metadata": {
        "tags": [
          "text answer"
        ],
        "id": "1LKN5OytpPUE"
      },
      "source": [
        "✏️ **Answer:**\n",
        "\n",
        "- Give the loss, define a criterion for evaluation of the training.\n",
        "- Optimizer, the stochastic gradient descent, algorithm used for the optimisation\n",
        "- to clear previously saved gradient"
      ]
    },
    {
      "cell_type": "markdown",
      "metadata": {
        "tags": [
          "task"
        ],
        "id": "d9AC80xcpPUF"
      },
      "source": [
        "🗒️ **Task:** Write code to train the `model_base` model with 750 epochs, learning rate of 0.05, and weight decay (wd) of 0.0."
      ]
    },
    {
      "cell_type": "code",
      "execution_count": 15,
      "metadata": {
        "tags": [
          "code answer"
        ],
        "colab": {
          "base_uri": "https://localhost:8080/"
        },
        "id": "ApzRyEyxpPUF",
        "outputId": "8afc3300-7ed1-47bb-d2f0-ec34f266da64"
      },
      "outputs": [
        {
          "output_type": "stream",
          "name": "stderr",
          "text": [
            "100%|██████████| 750/750 [00:30<00:00, 24.67it/s]\n"
          ]
        }
      ],
      "source": [
        "### ANSWER\n",
        "\n",
        "epoch_loss_base, epoch_f1_base = train(model_base, X_train, y_train, X_valid, y_valid, epochs=750, lr=0.01, wd=0.0,\n",
        "          model_name=\"\")\n"
      ]
    },
    {
      "cell_type": "markdown",
      "metadata": {
        "tags": [
          "task"
        ],
        "id": "k8oy3oLbpPUG"
      },
      "source": [
        "### _Examine training and validation losses and F1s_\n",
        "\n",
        "🗒️ **Task:** Run `plot_train_valid_score` to plot the training and validation losses and F1s over epochs."
      ]
    },
    {
      "cell_type": "code",
      "execution_count": 16,
      "metadata": {
        "colab": {
          "base_uri": "https://localhost:8080/",
          "height": 407
        },
        "id": "_ciLffXqpPUG",
        "outputId": "f333e558-b813-4c2a-caa6-fc2433e18f99"
      },
      "outputs": [
        {
          "output_type": "display_data",
          "data": {
            "text/plain": [
              "<Figure size 800x400 with 2 Axes>"
            ],
            "image/png": "[encoded data removed]"
          },
          "metadata": {}
        }
      ],
      "source": [
        "plot_train_valid_scores(epoch_loss_base, epoch_f1_base)"
      ]
    },
    {
      "cell_type": "markdown",
      "metadata": {
        "tags": [
          "task"
        ],
        "id": "pRMuxPLspPUH"
      },
      "source": [
        "🗒️ **Question:** How do you interpret the plots above? Why do the red line sit above the blue one when plotting loss but below when plotting F1? do you think the number of iterations we set is enough for the training loss to reach its minimum?"
      ]
    },
    {
      "cell_type": "markdown",
      "metadata": {
        "tags": [
          "text answer"
        ],
        "id": "-L78nruTpPUH"
      },
      "source": [
        "✏️ **Answer:**\n",
        "\n",
        "The training and validation losses decrease with the number of iterations, while the F1 score increases. We need certainly more iterations to reach the minimum loss."
      ]
    },
    {
      "cell_type": "markdown",
      "metadata": {
        "tags": [
          "task"
        ],
        "id": "1Mbxa3llpPUJ"
      },
      "source": [
        "### _Continue training_\n",
        "\n",
        "The `model_base` model object contains updated weights and biases at the end of the training process. We can continue training it by call the train function again.\n",
        "\n",
        "🗒️ **Task:** In the cell below, write code that will:\n",
        "\n",
        "- Train the `model_base` model for another 1000 epochs, with all the same parameters,\n",
        "- call the returned objects `epoch_loss_2`, and `epoch_f1_2`,\n",
        "- Plot both losses and F1.\n"
      ]
    },
    {
      "cell_type": "code",
      "execution_count": 17,
      "metadata": {
        "tags": [
          "code answer"
        ],
        "colab": {
          "base_uri": "https://localhost:8080/",
          "height": 424
        },
        "id": "3LWxjqQrpPUK",
        "outputId": "a1a21144-ca09-462f-f26c-0722245e1f71"
      },
      "outputs": [
        {
          "output_type": "stream",
          "name": "stderr",
          "text": [
            "100%|██████████| 1000/1000 [00:33<00:00, 30.14it/s]\n"
          ]
        },
        {
          "output_type": "display_data",
          "data": {
            "text/plain": [
              "<Figure size 800x400 with 2 Axes>"
            ],
            "image/png": "[encoded data removed]"
          },
          "metadata": {}
        }
      ],
      "source": [
        "### ANSWER\n",
        "\n",
        "epoch_loss_2, epoch_f1_2 = train(model_base, X_train, y_train, X_valid, y_valid, epochs=1000, lr=0.01, wd=0.0,\n",
        "          model_name=\"\")\n",
        "\n",
        "plot_train_valid_scores(epoch_loss_2, epoch_f1_2)\n"
      ]
    },
    {
      "cell_type": "markdown",
      "metadata": {
        "tags": [
          "task"
        ],
        "id": "ybtOGEVrpPUK"
      },
      "source": [
        "🗒️ **Question:** What's your interpretation of the above results? Why does the loss and F1 fluctuate so much?"
      ]
    },
    {
      "cell_type": "markdown",
      "metadata": {
        "tags": [
          "text answer"
        ],
        "id": "8WKXAuSypPUK"
      },
      "source": [
        "✏️ **Answer:**\n",
        "\n",
        "If the learning rate is too high, the model may overshoot the optimal point, causing large fluctuations in the loss"
      ]
    },
    {
      "cell_type": "markdown",
      "metadata": {
        "tags": [
          "task"
        ],
        "id": "osqeQ_BypPUL"
      },
      "source": [
        "---\n",
        "<a id=\"lr\"></a>\n",
        "\n",
        "## ___Impact of learning rate___\n",
        "\n",
        "As demonstrated earlier that there are quite a lot of fluctuation in loss and F1 over epochs. This is most likely due to poor learning rate choice.\n",
        "\n",
        "🗒️ **Task:** To test this:\n",
        "\n",
        "- Go to [this Excel sheet](https://michiganstate-my.sharepoint.com/:x:/g/personal/silves28_msu_edu/EX1nEc3cqeJLkCP-LqNBrmgBpPeQWHSH1OGW0VrAF1ye6w?e=zeYg1U&nav=MTVfezAwMDAwMDAwLTAwMDEtMDAwMC0wMDAwLTAwMDAwMDAwMDAwMH0), pick a learning rate you'd like to test and put your name next to it.\n",
        "- Intialize a new `Classifier` object and call it `model_lr_test`,\n",
        "- Use the same parameters as before to train `model_lr_test` except use the learning rate you have chosen and run for the chosen number of epochs.\n",
        "- Plot the results,\n",
        "- Share your loss and F1 results using the `Learning rate` tab of [the Excel sheet](https://michiganstate-my.sharepoint.com/:x:/g/personal/silves28_msu_edu/EX1nEc3cqeJLkCP-LqNBrmgBpPeQWHSH1OGW0VrAF1ye6w?e=zeYg1U&nav=MTVfezAwMDAwMDAwLTAwMDEtMDAwMC0wMDAwLTAwMDAwMDAwMDAwMH0), and copy and paste your plot in [this PowerPoint presentation slide](https://michiganstate-my.sharepoint.com/:p:/g/personal/silves28_msu_edu/Ef31CN7xzOZKlizcevhXE7EBjaISj-y_CAobxoYEDfNiRw?e=5luQow)"
      ]
    },
    {
      "cell_type": "code",
      "execution_count": 18,
      "metadata": {
        "tags": [
          "code answer"
        ],
        "colab": {
          "base_uri": "https://localhost:8080/",
          "height": 424
        },
        "id": "k6pgMLMOpPUM",
        "outputId": "2e985d18-d8f3-44e1-c1f9-d7abbac6423c"
      },
      "outputs": [
        {
          "output_type": "stream",
          "name": "stderr",
          "text": [
            "100%|██████████| 750/750 [00:24<00:00, 30.42it/s]\n"
          ]
        },
        {
          "output_type": "display_data",
          "data": {
            "text/plain": [
              "<Figure size 800x400 with 2 Axes>"
            ],
            "image/png": "[encoded data removed]"
          },
          "metadata": {}
        }
      ],
      "source": [
        "### ANSWER\n",
        "model_lr_test = Classifier()\n",
        "epoch_loss_lr, epoch_f1_lr = train(model_lr_test, X_train, y_train, X_valid, y_valid, epochs=750, lr=0.05, wd=0.0,\n",
        "          model_name=\"\")\n",
        "\n",
        "plot_train_valid_scores(epoch_loss_lr, epoch_f1_lr)\n"
      ]
    },
    {
      "cell_type": "markdown",
      "metadata": {
        "tags": [
          "task"
        ],
        "id": "J1dTsl7xpPUM"
      },
      "source": [
        "🗒️ **Question:** What learning rate would you pick for this specific problem based on the results from your classmates?"
      ]
    },
    {
      "cell_type": "markdown",
      "metadata": {
        "tags": [
          "text answer"
        ],
        "id": "0akMk4JHpPUN"
      },
      "source": [
        "✏️ **Answer:**\n",
        "\n",
        "We can pick 0.01 as learning rate. For 1750 epoches."
      ]
    },
    {
      "cell_type": "markdown",
      "metadata": {
        "tags": [
          "task"
        ],
        "id": "XToyKsKWpPUO"
      },
      "source": [
        "---\n",
        "<a id=\"architecture\"></a>\n",
        "\n",
        "## ___Play with model architecture___\n",
        "\n",
        "The `Classifer` class specifies an architecture with:\n",
        "- An flattened, input layer (`flatten`),\n",
        "- A linear layer with 500 nodes (`fc1`),\n",
        "- A linear layer with 500 nodes (`fc2`),\n",
        "- A linear layer with 10 nodes (`out`),\n",
        "- A softmax layer with 10 nodes (`softmax`).\n",
        "\n",
        "🗒️ **Task:** In the following cell:\n",
        "\n",
        "- Modify the `Classifer` class and call it `Classifer_mine`, create a new model architecture of your choice.\n",
        "  - I.e., change the number of layers and nodes,\n",
        "  - But leave `flatten`, `out`, and `softmax` unchanged,\n",
        "  - Also leave the total number of nodes to be 1000.\n",
        "- Create a new model with `Classifier_min` with a learning rate of 0.05 for 1750 epochs.\n",
        "- Share your model architecture info, loss and F1 results in the `Model architecture` tab of [the Google sheet]((https://docs.google.com/spreadsheets/d/1f1H7ZedtMr02POAAMoZEDGYCHp4O2YpIzyHuyUmmEHs/edit#gid=1610218136)), and copy and past your plot in [this Google slide](https://docs.google.com/presentation/d/1Crh28_W-pEmHQM1pDH7bImWLH6y1w4u1OWtN8M5kOm8/edit#slide=id.g2c728e6d46c_0_0)."
      ]
    },
    {
      "cell_type": "code",
      "execution_count": 19,
      "metadata": {
        "tags": [
          "code answer"
        ],
        "colab": {
          "base_uri": "https://localhost:8080/",
          "height": 424
        },
        "id": "iyH4_gH5pPUV",
        "outputId": "20013214-92f7-4688-c9e2-2cbcbbb3d65f"
      },
      "outputs": [
        {
          "output_type": "stream",
          "name": "stderr",
          "text": [
            "100%|██████████| 250/250 [00:09<00:00, 25.57it/s]\n"
          ]
        },
        {
          "output_type": "display_data",
          "data": {
            "text/plain": [
              "<Figure size 800x400 with 2 Axes>"
            ],
            "image/png": "[encoded data removed]"
          },
          "metadata": {}
        }
      ],
      "source": [
        "### ANSWER\n",
        "\n",
        "\n",
        "class Classifier_mine(nn.Module):\n",
        "  def __init__(self):\n",
        "    super().__init__()\n",
        "    self.flatten = nn.Flatten()\n",
        "    self.fc1 = nn.Linear(784,400) # Define the first fully connected layer\n",
        "    self.fc2 = nn.Linear(400,300)  # Define the second fully connected layer\n",
        "    self.fc3 = nn.Linear(300,200)  # Define the third fully connected layer\n",
        "    self.fc4 = nn.Linear(200,100)  # Define the fourth fully connected layer\n",
        "    self.out = nn.Linear(100,10)  # Define the output layer\n",
        "\n",
        "  def forward(self,x):\n",
        "    x = self.flatten(x)          # Has dimension 1x784\n",
        "    x = F.relu(self.fc1(x))      # dimension 1x500\n",
        "    x = F.relu(self.fc2(x))      # dimension 1x300\n",
        "    x = F.relu(self.fc3(x))      # dimension 1x200\n",
        "    x = F.relu(self.fc4(x))      # dimension 1x100\n",
        "    x = F.relu(self.out(x))      # dimension 1x10\n",
        "    x = F.log_softmax(x,dim=1)   # dimension 1x10\n",
        "\n",
        "    return x\n",
        "\n",
        "### ANSWER\n",
        "model_lr_mine = Classifier_mine()\n",
        "epoch_loss_mine, epoch_f1_mine = train(model_lr_mine, X_train, y_train, X_valid, y_valid, epochs=250, lr=0.01, wd=0.0,\n",
        "          model_name=\"\")\n",
        "\n",
        "plot_train_valid_scores(epoch_loss_mine, epoch_f1_mine)"
      ]
    },
    {
      "cell_type": "markdown",
      "metadata": {
        "tags": [
          "task"
        ],
        "id": "dnLr0bimpPUW"
      },
      "source": [
        "🗒️ **Question:** Take a look at the results posted by your classmates. Is there any general rule you may derived from how the model architecture should be defined?"
      ]
    },
    {
      "cell_type": "markdown",
      "metadata": {
        "tags": [
          "text answer"
        ],
        "id": "qz5ciEuopPUW"
      },
      "source": [
        "✏️ **Answer:**\n",
        "\n",
        "I use, an architecture with 4 hidden layers with 400, 300, 200, and 100 neurons respectively. This does not give good performances, but I choose to keep them as example of bad choice of architecture.\n",
        "\n",
        "I could not access the Google sheet and the Google slide for comparison with classmates."
      ]
    },
    {
      "cell_type": "markdown",
      "metadata": {
        "id": "0d4197a1"
      },
      "source": [
        "## Congratulations, you're done!\n",
        "\n",
        "Submit this assignment by uploading your notebook to the course Desire2Learn web page.  Go to the \"In-Class Assignments\" folder, find the appropriate submission link, and upload everything there. Make sure your name is on it!"
      ]
    },
    {
      "cell_type": "markdown",
      "metadata": {
        "id": "cb3acc6b"
      },
      "source": [
        "---\n",
        "\n",
        "© 2024 Michigan State University. This material was created for the Department of Computational Mathematics, Science and Engineering (CMSE) at Michigan State University."
      ]
    }
  ],
  "metadata": {
    "kernelspec": {
      "display_name": "cmse802",
      "language": "python",
      "name": "python3"
    },
    "language_info": {
      "codemirror_mode": {
        "name": "ipython",
        "version": 3
      },
      "file_extension": ".py",
      "mimetype": "text/x-python",
      "name": "python",
      "nbconvert_exporter": "python",
      "pygments_lexer": "ipython3",
      "version": "3.12.4"
    },
    "colab": {
      "provenance": [],
      "include_colab_link": true
    }
  },
  "nbformat": 4,
  "nbformat_minor": 0
}
